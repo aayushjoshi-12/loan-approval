{
 "cells": [
  {
   "cell_type": "code",
   "execution_count": 40,
   "metadata": {},
   "outputs": [],
   "source": [
    "import numpy as np\n",
    "import pandas as pd \n",
    "import matplotlib.pyplot as plt\n",
    "import seaborn as sns \n",
    "from sklearn.model_selection import train_test_split\n",
    "from sklearn.preprocessing import StandardScaler\n",
    "from sklearn.linear_model import LogisticRegression\n",
    "from sklearn.naive_bayes import GaussianNB\n",
    "from sklearn.svm import SVC\n",
    "from sklearn.ensemble import RandomForestClassifier\n",
    "from sklearn.ensemble import GradientBoostingClassifier\n",
    "from sklearn.model_selection import GridSearchCV\n",
    "from sklearn import metrics\n",
    "pd.set_option('display.max_columns', 200)\n",
    "plt.style.use('ggplot')"
   ]
  },
  {
   "cell_type": "markdown",
   "metadata": {},
   "source": [
    "# Preprocessing "
   ]
  },
  {
   "cell_type": "code",
   "execution_count": null,
   "metadata": {},
   "outputs": [],
   "source": [
    "df = pd.read_csv('loan_data.csv')\n",
    "original_df = df"
   ]
  },
  {
   "cell_type": "code",
   "execution_count": null,
   "metadata": {},
   "outputs": [],
   "source": [
    "df.head()"
   ]
  },
  {
   "cell_type": "markdown",
   "metadata": {},
   "source": [
    "### About data\n",
    "- Loan_ID: A unique loan ID.\n",
    "- Gender: Either male or female.\n",
    "- Married: Weather Married(yes) or Not Marttied(No).\n",
    "- Dependents: Number of persons depending on the client.\n",
    "- Education: Applicant Education(Graduate or Undergraduate).\n",
    "- Self_Employed: Self-employed (Yes/No).\n",
    "- ApplicantIncome: Applicant income.\n",
    "- CoapplicantIncome: Co-applicant income.\n",
    "- LoanAmount: Loan amount in thousands.\n",
    "- Loan_Amount_Term: Terms of the loan in months.\n",
    "- Credit_History: Credit history meets guidelines.\n",
    "- Property_Area: Applicants are living either Urban, Semi-Urban or Rural.\n",
    "- Loan_Status: Loan approved (Y/N)."
   ]
  },
  {
   "cell_type": "code",
   "execution_count": null,
   "metadata": {},
   "outputs": [],
   "source": [
    "df.info()"
   ]
  },
  {
   "cell_type": "code",
   "execution_count": null,
   "metadata": {},
   "outputs": [],
   "source": [
    "df.describe()"
   ]
  },
  {
   "cell_type": "code",
   "execution_count": null,
   "metadata": {},
   "outputs": [],
   "source": [
    "df.columns"
   ]
  },
  {
   "cell_type": "code",
   "execution_count": null,
   "metadata": {},
   "outputs": [],
   "source": [
    "df.shape"
   ]
  },
  {
   "cell_type": "code",
   "execution_count": null,
   "metadata": {},
   "outputs": [],
   "source": [
    "df.isna().sum()"
   ]
  },
  {
   "cell_type": "code",
   "execution_count": null,
   "metadata": {},
   "outputs": [],
   "source": [
    "df.duplicated().sum()"
   ]
  },
  {
   "cell_type": "code",
   "execution_count": null,
   "metadata": {},
   "outputs": [],
   "source": [
    "categorical_columns = [cols for cols in df.columns if df[cols].nunique() <= 5 and df[cols].dtype == object]\n",
    "categorical_columns.remove('Loan_Status')"
   ]
  },
  {
   "cell_type": "code",
   "execution_count": null,
   "metadata": {},
   "outputs": [],
   "source": [
    "for cols in df.columns:\n",
    "    if df[cols].dtype != object and df[cols].nunique() > 3 and df[cols].isna().sum() > 0:\n",
    "        df[cols] = df[cols].fillna(df[cols].mean())\n",
    "\n",
    "    if df[cols].dtype != object and df[cols].isna().sum() > 0:\n",
    "        df[cols] = df[cols].fillna(list(df[cols].mode())[0])\n",
    "\n",
    "    if df[cols].dtype == object and df[cols].isna().sum() > 0:\n",
    "        df[cols] = df[cols].fillna(list(df[cols].mode())[0])"
   ]
  },
  {
   "cell_type": "code",
   "execution_count": null,
   "metadata": {},
   "outputs": [],
   "source": [
    "df.info()"
   ]
  },
  {
   "cell_type": "code",
   "execution_count": null,
   "metadata": {},
   "outputs": [],
   "source": [
    "one_hot_encoded_PA = pd.get_dummies(df['Property_Area'])\n",
    "one_hot_encoded_D = pd.get_dummies(df['Dependents'],'Dependents')\n",
    "df = df.join(one_hot_encoded_PA)\n",
    "df = df.join(one_hot_encoded_D)\n",
    "df = df.drop(['Property_Area', 'Dependents'], axis=1)"
   ]
  },
  {
   "cell_type": "code",
   "execution_count": null,
   "metadata": {},
   "outputs": [],
   "source": [
    "for cols in df.columns:\n",
    "    if df[cols].dtype == object and df[cols].nunique() == 2 :\n",
    "        labels = df[cols].unique()\n",
    "        print(f\"{labels} == {[1, 0]}\")\n",
    "        df[cols] = df[cols].replace(list(labels), [1, 0])\n",
    "\n",
    "    if df[cols].dtype == bool:\n",
    "        df[cols] = df[cols].astype(int)"
   ]
  },
  {
   "cell_type": "code",
   "execution_count": null,
   "metadata": {},
   "outputs": [],
   "source": [
    "df['Loan_ID'] = df['Loan_ID'].apply(lambda str : int(str[3:]))"
   ]
  },
  {
   "cell_type": "code",
   "execution_count": null,
   "metadata": {},
   "outputs": [],
   "source": [
    "binary_columns = [column for column in df.columns if df[column].nunique() == 2 and set(df[column].unique()) == set([0, 1])]\n",
    "continuous_columns = [cols for cols in df.columns if cols not in binary_columns]\n",
    "continuous_columns.remove('Loan_ID')"
   ]
  },
  {
   "cell_type": "code",
   "execution_count": null,
   "metadata": {},
   "outputs": [],
   "source": [
    "print(binary_columns)\n",
    "print(continuous_columns)\n",
    "print(categorical_columns)"
   ]
  },
  {
   "cell_type": "markdown",
   "metadata": {},
   "source": [
    "# Exploaratory Data Analysis"
   ]
  },
  {
   "cell_type": "code",
   "execution_count": null,
   "metadata": {},
   "outputs": [],
   "source": [
    "plt.figure(figsize=(6,4))\n",
    "\n",
    "sns.countplot(x=df['Loan_Status'])\n",
    "plt.title('Barplot of Loan Status')\n",
    "plt.show()"
   ]
  },
  {
   "cell_type": "code",
   "execution_count": null,
   "metadata": {},
   "outputs": [],
   "source": [
    "plt.figure(figsize=(6,4))\n",
    "sns.boxplot(x=df['Loan_Status'])\n",
    "plt.title('Boxplot of Loan Status')\n",
    "plt.show()"
   ]
  },
  {
   "cell_type": "markdown",
   "metadata": {},
   "source": [
    "shows loan rejection is not a very rare phenomenon "
   ]
  },
  {
   "cell_type": "code",
   "execution_count": null,
   "metadata": {},
   "outputs": [],
   "source": [
    "plt.figure(figsize=(6,4))\n",
    "sns.kdeplot(x=df['Loan_Status'])\n",
    "plt.xlabel('Loan_Status')\n",
    "plt.show()"
   ]
  },
  {
   "cell_type": "code",
   "execution_count": null,
   "metadata": {},
   "outputs": [],
   "source": [
    "correlation_matrix = df.corr()\n",
    "correlation_with_loan_status = correlation_matrix['Loan_Status']\n",
    "continuous_columns_correlation = correlation_matrix.abs()\n",
    "\n",
    "# # correlation of the continuous features\n",
    "# print(continuous_columns_correlation)\n",
    "\n",
    "f, ax = plt.subplots(figsize=(15, 10))\n",
    "\n",
    "sns.heatmap(continuous_columns_correlation, vmax=1, center=0, square=True, linewidths=.5, cbar_kws={\"shrink\": .4}, annot=True)\n",
    "plt.show()"
   ]
  },
  {
   "cell_type": "markdown",
   "metadata": {},
   "source": [
    "- i can kinda draw the inference that loan_status is heavily correlated or associated with credit history but i also know that credit history is heavily skewed also it is a categorical data. \n",
    "- we can see how the one hot encoded features are correlated to some extent which is obvious\n",
    "- there is a relation bw married and 0 dependants which is kinda weird\n",
    "- also a small correlation between married and gender which i don't know why"
   ]
  },
  {
   "cell_type": "code",
   "execution_count": null,
   "metadata": {},
   "outputs": [],
   "source": [
    "fig, axs = plt.subplots(nrows=2, ncols=2, figsize=(15, 10))\n",
    "\n",
    "for i in range(len(continuous_columns)):\n",
    "    row = i // 2\n",
    "    col = i % 2\n",
    "\n",
    "    sns.boxplot(x=df[continuous_columns[i]], ax=axs[row, col])\n",
    "\n",
    "plt.tight_layout()\n",
    "plt.show()"
   ]
  },
  {
   "cell_type": "code",
   "execution_count": null,
   "metadata": {},
   "outputs": [],
   "source": [
    "fig, axs = plt.subplots(nrows=2, ncols=2, figsize=(15, 10))\n",
    "\n",
    "for i in range(len(continuous_columns)):\n",
    "    row = i // 2\n",
    "    col = i % 2\n",
    "\n",
    "    sns.histplot(x=df[continuous_columns[i]], ax=axs[row, col])\n",
    "\n",
    "plt.tight_layout()\n",
    "plt.show()"
   ]
  },
  {
   "cell_type": "code",
   "execution_count": null,
   "metadata": {},
   "outputs": [],
   "source": [
    "fig, axs = plt.subplots(nrows=2, ncols=3, figsize=(15, 5))\n",
    "\n",
    "for i in range(len(categorical_columns)):\n",
    "    row = i // 3\n",
    "    col = i % 3\n",
    "\n",
    "    sns.barplot(original_df[categorical_columns[i]], ax=axs[row, col])\n",
    "\n",
    "plt.tight_layout()\n",
    "plt.show()"
   ]
  },
  {
   "cell_type": "code",
   "execution_count": null,
   "metadata": {},
   "outputs": [],
   "source": [
    "# plt.figure(figsize=(15, 10))\n",
    "# sns.pairplot(df, hue='Loan_Status', palette='husl')\n",
    "# plt.show()\n",
    "\n",
    "# not so great because of the categorical features"
   ]
  },
  {
   "cell_type": "code",
   "execution_count": null,
   "metadata": {},
   "outputs": [],
   "source": [
    "plt.figure(figsize=(15, 10))\n",
    "sns.pairplot(original_df, hue='Loan_Status', palette='husl')\n",
    "plt.show()"
   ]
  },
  {
   "cell_type": "code",
   "execution_count": null,
   "metadata": {},
   "outputs": [],
   "source": [
    "X = df.drop('Loan_Status', axis=1)\n",
    "y = df['Loan_Status']\n",
    "\n",
    "X_train, X_test, y_train, y_test = train_test_split(X, y, test_size=0.2, random_state=42)"
   ]
  },
  {
   "cell_type": "code",
   "execution_count": null,
   "metadata": {},
   "outputs": [],
   "source": [
    "scaler = StandardScaler()\n",
    "\n",
    "X_train = X_train.drop('Loan_ID', axis=1)\n",
    "X_test = X_test.drop('Loan_ID', axis=1)\n",
    "X_train[continuous_columns] = scaler.fit_transform(X_train[continuous_columns])\n",
    "X_test[continuous_columns] = scaler.transform(X_test[continuous_columns]) # we just transform because we dont want the model to learn from this test data"
   ]
  },
  {
   "cell_type": "markdown",
   "metadata": {},
   "source": [
    "we can use something like a param_grid to find the best parameters for the model but we can use pipepline to do this for us where we can give it all the models and it will output the best model for us"
   ]
  },
  {
   "cell_type": "markdown",
   "metadata": {},
   "source": [
    "# Model Selection"
   ]
  },
  {
   "cell_type": "markdown",
   "metadata": {},
   "source": [
    "### Logistic Regression Model"
   ]
  },
  {
   "cell_type": "code",
   "execution_count": null,
   "metadata": {},
   "outputs": [],
   "source": [
    "param_grid = {'C': [0.001, 0.01, 0.1, 1, 10, 100, 1000], 'penalty': ['None', 'l1', 'l2', 'elasticnet'], 'solver': ['liblinear', 'saga']}\n",
    "\n",
    "LR_grid = GridSearchCV(LogisticRegression(), param_grid, cv=5, scoring='accuracy')\n",
    "LR_grid.fit(X_train, y_train)\n",
    "\n",
    "print(LR_grid.best_params_)\n",
    "LR_pred = LR_grid.predict(X_test)\n",
    "\n",
    "accuracy = metrics.accuracy_score(y_test, LR_pred)\n",
    "precision = metrics.precision_score(y_test, LR_pred)\n",
    "recall = metrics.recall_score(y_test, LR_pred)\n",
    "f1 = metrics.f1_score(y_test, LR_pred)\n",
    "\n",
    "print(f\"Accuracy: {accuracy}\")\n",
    "print(f\"Precision: {precision}\")\n",
    "print(f\"Recall: {recall}\")\n",
    "print(f\"F1: {f1}\")\n",
    "\n",
    "fpr, tpr, _ = metrics.roc_curve(y_test, LR_pred)\n",
    "roc_auc = metrics.auc(fpr, tpr)\n",
    "\n",
    "precision, recall, _ = metrics.precision_recall_curve(y_test, LR_pred)\n",
    "pr_auc = metrics.auc(recall, precision)\n",
    "\n",
    "# Plot ROC curve\n",
    "plt.figure()\n",
    "plt.plot(fpr, tpr, label='ROC curve (area = %0.2f)' % roc_auc)\n",
    "plt.plot([0, 1], [0, 1], 'k--')\n",
    "plt.xlim([0.0, 1.0])\n",
    "plt.ylim([0.0, 1.05])\n",
    "plt.xlabel('False Positive Rate')\n",
    "plt.ylabel('True Positive Rate')\n",
    "plt.title('Receiver Operating Characteristic')\n",
    "plt.legend(loc=\"lower right\")\n",
    "plt.show()\n",
    "\n",
    "# Plot Precision-Recall curve\n",
    "plt.figure()\n",
    "plt.plot(recall, precision, label='PR curve (area = %0.2f)' % pr_auc)\n",
    "plt.xlim([0.0, 1.0])\n",
    "plt.ylim([0.0, 1.05])\n",
    "plt.xlabel('Recall')\n",
    "plt.ylabel('Precision')\n",
    "plt.title('Precision-Recall chart')\n",
    "plt.legend(loc=\"lower right\")\n",
    "plt.show()"
   ]
  },
  {
   "cell_type": "markdown",
   "metadata": {},
   "source": [
    "### Naive Bayes Model"
   ]
  },
  {
   "cell_type": "code",
   "execution_count": null,
   "metadata": {},
   "outputs": [],
   "source": [
    "gnb = GaussianNB()\n",
    "gnb.fit(X_train, y_train)\n",
    "\n",
    "gnb_pred = gnb.predict(X_test)\n",
    "\n",
    "accuracy = metrics.accuracy_score(y_test, gnb_pred)\n",
    "precision = metrics.precision_score(y_test, gnb_pred)\n",
    "recall = metrics.recall_score(y_test, gnb_pred)\n",
    "f1 = metrics.f1_score(y_test, gnb_pred)\n",
    "\n",
    "print(f\"Accuracy: {accuracy}\")\n",
    "print(f\"Precision: {precision}\")\n",
    "print(f\"Recall: {recall}\")\n",
    "print(f\"F1: {f1}\")\n",
    "\n",
    "fpr, tpr, _ = metrics.roc_curve(y_test, gnb_pred)\n",
    "roc_auc = metrics.auc(fpr, tpr)\n",
    "\n",
    "precision, recall, _ = metrics.precision_recall_curve(y_test, gnb_pred)\n",
    "pr_auc = metrics.auc(recall, precision)\n",
    "\n",
    "# Plot ROC curve\n",
    "plt.figure()\n",
    "plt.plot(fpr, tpr, label='ROC curve (area = %0.2f)' % roc_auc)\n",
    "plt.plot([0, 1], [0, 1], 'k--')\n",
    "plt.xlim([0.0, 1.0])\n",
    "plt.ylim([0.0, 1.05])\n",
    "plt.xlabel('False Positive Rate')\n",
    "plt.ylabel('True Positive Rate')\n",
    "plt.title('Receiver Operating Characteristic')\n",
    "plt.legend(loc=\"lower right\")\n",
    "plt.show()\n",
    "\n",
    "# Plot Precision-Recall curve\n",
    "plt.figure()\n",
    "plt.plot(recall, precision, label='PR curve (area = %0.2f)' % pr_auc)\n",
    "plt.xlim([0.0, 1.0])\n",
    "plt.ylim([0.0, 1.05])\n",
    "plt.xlabel('Recall')\n",
    "plt.ylabel('Precision')\n",
    "plt.title('Precision-Recall chart')\n",
    "plt.legend(loc=\"lower right\")\n",
    "plt.show()"
   ]
  },
  {
   "cell_type": "markdown",
   "metadata": {},
   "source": [
    "### SVM"
   ]
  },
  {
   "cell_type": "code",
   "execution_count": null,
   "metadata": {},
   "outputs": [],
   "source": [
    "param_grid = {'C': [0.001, 0.01, 0.1, 1, 10, 100, 1000], 'kernel': ['linear', 'poly', 'rbf', 'sigmoid']}\n",
    "\n",
    "SVM_grid = GridSearchCV(SVC(), param_grid, cv=5)\n",
    "SVM_grid.fit(X_train, y_train)\n",
    "\n",
    "print(SVM_grid.best_params_)\n",
    "SVM_pred = SVM_grid.predict(X_test)\n",
    "\n",
    "accuracy = metrics.accuracy_score(y_test, SVM_pred)\n",
    "precision = metrics.precision_score(y_test, SVM_pred)\n",
    "recall = metrics.recall_score(y_test, SVM_pred)\n",
    "f1 = metrics.f1_score(y_test, SVM_pred)\n",
    "\n",
    "print(f\"Accuracy: {accuracy}\")\n",
    "print(f\"Precision: {precision}\")\n",
    "print(f\"Recall: {recall}\")\n",
    "print(f\"F1: {f1}\")\n",
    "\n",
    "fpr, tpr, _ = metrics.roc_curve(y_test, SVM_pred)\n",
    "roc_auc = metrics.auc(fpr, tpr)\n",
    "\n",
    "precision, recall, _ = metrics.precision_recall_curve(y_test, SVM_pred)\n",
    "pr_auc = metrics.auc(recall, precision)\n",
    "\n",
    "# Plot ROC curve\n",
    "plt.figure()\n",
    "plt.plot(fpr, tpr, label='ROC curve (area = %0.2f)' % roc_auc)\n",
    "plt.plot([0, 1], [0, 1], 'k--')\n",
    "plt.xlim([0.0, 1.0])\n",
    "plt.ylim([0.0, 1.05])\n",
    "plt.xlabel('False Positive Rate')\n",
    "plt.ylabel('True Positive Rate')\n",
    "plt.title('Receiver Operating Characteristic')\n",
    "plt.legend(loc=\"lower right\")\n",
    "plt.show()\n",
    "\n",
    "# Plot Precision-Recall curve\n",
    "plt.figure()\n",
    "plt.plot(recall, precision, label='PR curve (area = %0.2f)' % pr_auc)\n",
    "plt.xlim([0.0, 1.0])\n",
    "plt.ylim([0.0, 1.05])\n",
    "plt.xlabel('Recall')\n",
    "plt.ylabel('Precision')\n",
    "plt.title('Precision-Recall chart')\n",
    "plt.legend(loc=\"lower right\")\n",
    "plt.show()"
   ]
  },
  {
   "cell_type": "markdown",
   "metadata": {},
   "source": [
    "### Random Forests"
   ]
  },
  {
   "cell_type": "code",
   "execution_count": null,
   "metadata": {},
   "outputs": [],
   "source": [
    "param_grid = {'n_estimators': [10, 100, 1000], 'max_features': ['auto', 'sqrt', 'log2'], 'max_depth': [10, 100, 1000], 'criterion': ['gini', 'entropy']}\n",
    "\n",
    "RF_grid = GridSearchCV(RandomForestClassifier(), param_grid, cv=5)\n",
    "RF_grid.fit(X_train, y_train)\n",
    "\n",
    "print(RF_grid.best_params_)\n",
    "RF_pred = RF_grid.predict(X_test)\n",
    "\n",
    "accuracy = metrics.accuracy_score(y_test, RF_pred)\n",
    "precision = metrics.precision_score(y_test, RF_pred)\n",
    "recall = metrics.recall_score(y_test, RF_pred)\n",
    "f1 = metrics.f1_score(y_test, RF_pred)\n",
    "\n",
    "print(f\"Accuracy: {accuracy}\")\n",
    "print(f\"Precision: {precision}\")\n",
    "print(f\"Recall: {recall}\")\n",
    "print(f\"F1: {f1}\")\n",
    "\n",
    "fpr, tpr, _ = metrics.roc_curve(y_test, RF_pred)\n",
    "roc_auc = metrics.auc(fpr, tpr)\n",
    "\n",
    "precision, recall, _ = metrics.precision_recall_curve(y_test, RF_pred)\n",
    "pr_auc = metrics.auc(recall, precision)\n",
    "\n",
    "# Plot ROC curve\n",
    "plt.figure()\n",
    "plt.plot(fpr, tpr, label='ROC curve (area = %0.2f)' % roc_auc)\n",
    "plt.plot([0, 1], [0, 1], 'k--')\n",
    "plt.xlim([0.0, 1.0])\n",
    "plt.ylim([0.0, 1.05])\n",
    "plt.xlabel('False Positive Rate')\n",
    "plt.ylabel('True Positive Rate')\n",
    "plt.title('Receiver Operating Characteristic')\n",
    "plt.legend(loc=\"lower right\")\n",
    "plt.show()\n",
    "\n",
    "# Plot Precision-Recall curve\n",
    "plt.figure()\n",
    "plt.plot(recall, precision, label='PR curve (area = %0.2f)' % pr_auc)\n",
    "plt.xlim([0.0, 1.0])\n",
    "plt.ylim([0.0, 1.05])\n",
    "plt.xlabel('Recall')\n",
    "plt.ylabel('Precision')\n",
    "plt.title('Precision-Recall chart')\n",
    "plt.legend(loc=\"lower right\")\n",
    "plt.show()"
   ]
  },
  {
   "cell_type": "markdown",
   "metadata": {},
   "source": [
    "### XGBoost Classifier"
   ]
  },
  {
   "cell_type": "code",
   "execution_count": 41,
   "metadata": {},
   "outputs": [
    {
     "name": "stdout",
     "output_type": "stream",
     "text": [
      "{'learning_rate': 1, 'max_depth': 10, 'n_estimators': 1000}\n",
      "Accuracy: 0.7402597402597403\n",
      "Precision: 0.5238095238095238\n",
      "Recall: 0.5238095238095238\n",
      "F1: 0.5238095238095238\n"
     ]
    },
    {
     "data": {
      "image/png": "[encoded data removed]",
      "text/plain": [
       "<Figure size 640x480 with 1 Axes>"
      ]
     },
     "metadata": {},
     "output_type": "display_data"
    },
    {
     "data": {
      "image/png": "[encoded data removed]",
      "text/plain": [
       "<Figure size 640x480 with 1 Axes>"
      ]
     },
     "metadata": {},
     "output_type": "display_data"
    }
   ],
   "source": [
    "param_grid = {'n_estimators': [10, 100, 1000], 'learning_rate': [0.001, 0.01, 0.1, 1], 'max_depth': [10, 100, 1000]}\n",
    "\n",
    "XGB_grid = GridSearchCV(GradientBoostingClassifier(), param_grid, cv=5)\n",
    "XGB_grid.fit(X_train, y_train)\n",
    "\n",
    "print(XGB_grid.best_params_)\n",
    "XGB_pred = XGB_grid.predict(X_test)\n",
    "\n",
    "accuracy = metrics.accuracy_score(y_test, XGB_pred)\n",
    "precision = metrics.precision_score(y_test, XGB_pred)\n",
    "recall = metrics.recall_score(y_test, XGB_pred)\n",
    "f1 = metrics.f1_score(y_test, XGB_pred)\n",
    "\n",
    "print(f\"Accuracy: {accuracy}\")\n",
    "print(f\"Precision: {precision}\")\n",
    "print(f\"Recall: {recall}\")\n",
    "print(f\"F1: {f1}\")\n",
    "\n",
    "fpr, tpr, _ = metrics.roc_curve(y_test, XGB_pred)\n",
    "roc_auc = metrics.auc(fpr, tpr)\n",
    "\n",
    "precision, recall, _ = metrics.precision_recall_curve(y_test, XGB_pred)\n",
    "pr_auc = metrics.auc(recall, precision)\n",
    "\n",
    "# Plot ROC curve\n",
    "plt.figure()\n",
    "plt.plot(fpr, tpr, label='ROC curve (area = %0.2f)' % roc_auc)\n",
    "plt.plot([0, 1], [0, 1], 'k--')\n",
    "plt.xlim([0.0, 1.0])\n",
    "plt.ylim([0.0, 1.05])\n",
    "plt.xlabel('False Positive Rate')\n",
    "plt.ylabel('True Positive Rate')\n",
    "plt.title('Receiver Operating Characteristic')\n",
    "plt.legend(loc=\"lower right\")\n",
    "plt.show()\n",
    "\n",
    "# Plot Precision-Recall curve\n",
    "plt.figure()\n",
    "plt.plot(recall, precision, label='PR curve (area = %0.2f)' % pr_auc)\n",
    "plt.xlim([0.0, 1.0])\n",
    "plt.ylim([0.0, 1.05])\n",
    "plt.xlabel('Recall')\n",
    "plt.ylabel('Precision')\n",
    "plt.title('Precision-Recall chart')\n",
    "plt.legend(loc=\"lower right\")\n",
    "plt.show()"
   ]
  }
 ],
 "metadata": {
  "kernelspec": {
   "display_name": "MLenv",
   "language": "python",
   "name": "python3"
  },
  "language_info": {
   "codemirror_mode": {
    "name": "ipython",
    "version": 3
   },
   "file_extension": ".py",
   "mimetype": "text/x-python",
   "name": "python",
   "nbconvert_exporter": "python",
   "pygments_lexer": "ipython3",
   "version": "3.11.6"
  }
 },
 "nbformat": 4,
 "nbformat_minor": 2
}
